{
 "cells": [
  {
   "cell_type": "markdown",
   "id": "fa0b231f",
   "metadata": {},
   "source": [
    "# Setup"
   ]
  },
  {
   "cell_type": "code",
   "execution_count": null,
   "id": "53e2db4a",
   "metadata": {},
   "outputs": [
    {
     "name": "stdout",
     "output_type": "stream",
     "text": [
      "Note: you may need to restart the kernel to use updated packages.\n"
     ]
    }
   ],
   "source": [
    "%pip install -q numpy pandas matplotlib torch torchvision torchgeo[datasets]"
   ]
  },
  {
   "cell_type": "code",
   "execution_count": null,
   "id": "5155542d",
   "metadata": {},
   "outputs": [
    {
     "data": {
      "text/plain": [
       "'0.7.1'"
      ]
     },
     "metadata": {},
     "output_type": "display_data"
    }
   ],
   "source": [
    "import torchgeo\n",
    "from torchgeo.datasets import VHR10\n",
    "import matplotlib.pyplot as plt\n",
    "\n",
    "torchgeo.__version__"
   ]
  },
  {
   "cell_type": "markdown",
   "id": "40020dd9",
   "metadata": {},
   "source": [
    "Using NWPU VHR 10 dataset for evaluation"
   ]
  },
  {
   "cell_type": "code",
   "execution_count": null,
   "id": "e1076402",
   "metadata": {},
   "outputs": [
    {
     "name": "stdout",
     "output_type": "stream",
     "text": [
      "Files already downloaded and verified\n",
      "loading annotations into memory...\n",
      "Done (t=0.02s)\n",
      "creating index...\n",
      "index created!\n"
     ]
    }
   ],
   "source": [
    "def preprocess(sample):\n",
    "    sample[\"image\"] = sample[\"image\"].float() / 255.0\n",
    "    return sample\n",
    "\n",
    "ds = VHR10(\n",
    "    root=\"data/VHR10/\",\n",
    "    split=\"positive\",\n",
    "    transforms=preprocess,\n",
    "    download=True,\n",
    "    checksum=True,\n",
    ")"
   ]
  },
  {
   "cell_type": "code",
   "execution_count": null,
   "id": "84a08f8f",
   "metadata": {},
   "outputs": [
    {
     "data": {
      "text/plain": [
       "(tensor([[[0.3059, 0.3059, 0.3098,  ..., 0.3765, 0.3686, 0.3647],\n",
       "          [0.3020, 0.3020, 0.3098,  ..., 0.3804, 0.3725, 0.3686],\n",
       "          [0.2941, 0.2980, 0.3059,  ..., 0.3804, 0.3686, 0.3569],\n",
       "          ...,\n",
       "          [0.4431, 0.4431, 0.4471,  ..., 0.3373, 0.3333, 0.3333],\n",
       "          [0.4431, 0.4431, 0.4471,  ..., 0.3373, 0.3333, 0.3294],\n",
       "          [0.4392, 0.4431, 0.4431,  ..., 0.3412, 0.3333, 0.3294]],\n",
       " \n",
       "         [[0.3490, 0.3490, 0.3529,  ..., 0.4275, 0.4196, 0.4157],\n",
       "          [0.3451, 0.3451, 0.3529,  ..., 0.4314, 0.4235, 0.4196],\n",
       "          [0.3333, 0.3373, 0.3451,  ..., 0.4314, 0.4196, 0.4078],\n",
       "          ...,\n",
       "          [0.4941, 0.4941, 0.4980,  ..., 0.3569, 0.3529, 0.3529],\n",
       "          [0.4941, 0.4941, 0.4980,  ..., 0.3569, 0.3529, 0.3490],\n",
       "          [0.4902, 0.4941, 0.4941,  ..., 0.3608, 0.3529, 0.3490]],\n",
       " \n",
       "         [[0.1922, 0.1922, 0.1961,  ..., 0.3098, 0.3098, 0.3059],\n",
       "          [0.1882, 0.1882, 0.1961,  ..., 0.3137, 0.3137, 0.3098],\n",
       "          [0.1882, 0.1922, 0.2000,  ..., 0.3137, 0.3098, 0.2980],\n",
       "          ...,\n",
       "          [0.4667, 0.4588, 0.4627,  ..., 0.2314, 0.2275, 0.2275],\n",
       "          [0.4667, 0.4588, 0.4627,  ..., 0.2314, 0.2275, 0.2235],\n",
       "          [0.4627, 0.4588, 0.4588,  ..., 0.2353, 0.2275, 0.2235]]]),\n",
       " tensor([[563., 485., 629., 571.]]),\n",
       " tensor([1]),\n",
       " tensor([[[0, 0, 0,  ..., 0, 0, 0],\n",
       "          [0, 0, 0,  ..., 0, 0, 0],\n",
       "          [0, 0, 0,  ..., 0, 0, 0],\n",
       "          ...,\n",
       "          [0, 0, 0,  ..., 0, 0, 0],\n",
       "          [0, 0, 0,  ..., 0, 0, 0],\n",
       "          [0, 0, 0,  ..., 0, 0, 0]]], dtype=torch.uint8))"
      ]
     },
     "metadata": {},
     "output_type": "display_data"
    }
   ],
   "source": [
    "ds[0][\"image\"], ds[0]['bbox_xyxy'], ds[0]['label'], ds[0]['mask']"
   ]
  }
 ],
 "metadata": {
  "language_info": {
   "name": "python"
  }
 },
 "nbformat": 4,
 "nbformat_minor": 5
}
